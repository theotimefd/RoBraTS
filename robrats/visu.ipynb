{
 "cells": [
  {
   "cell_type": "code",
   "execution_count": 12,
   "metadata": {},
   "outputs": [],
   "source": [
    "from robrats_inference import inference\n",
    "from utils import make_3_channel_NIFTI\n",
    "import nibabel as nib\n",
    "import skimage.measure as measure\n",
    "import matplotlib.pyplot as plt\n",
    "import ipywidgets as widgets\n",
    "from ipywidgets import interact"
   ]
  },
  {
   "cell_type": "code",
   "execution_count": 2,
   "metadata": {},
   "outputs": [],
   "source": [
    "img_test = nib.load(\"data/rat20_20240628_T2.nii\")"
   ]
  },
  {
   "cell_type": "code",
   "execution_count": 3,
   "metadata": {},
   "outputs": [
    {
     "data": {
      "text/plain": [
       "array([[-0.1171875,  0.       ,  0.       , 15.       ],\n",
       "       [ 0.       , -0.1171875,  0.       , 15.       ],\n",
       "       [ 0.       ,  0.       ,  1.       , -8.       ],\n",
       "       [ 0.       ,  0.       ,  0.       ,  1.       ]])"
      ]
     },
     "execution_count": 3,
     "metadata": {},
     "output_type": "execute_result"
    }
   ],
   "source": [
    "img_test.affine"
   ]
  },
  {
   "cell_type": "code",
   "execution_count": 4,
   "metadata": {},
   "outputs": [
    {
     "name": "stdout",
     "output_type": "stream",
     "text": [
      "T2 shape: (256, 256, 19)\n",
      "ADC shape: (128, 128, 19)\n",
      "DCE shape: (128, 128, 19)\n"
     ]
    },
    {
     "name": "stderr",
     "output_type": "stream",
     "text": [
      "You are using `torch.load` with `weights_only=False` (the current default value), which uses the default pickle module implicitly. It is possible to construct malicious pickle data which will execute arbitrary code during unpickling (See https://github.com/pytorch/pytorch/blob/main/SECURITY.md#untrusted-models for more details). In a future release, the default value for `weights_only` will be flipped to `True`. This limits the functions that could be executed during unpickling. Arbitrary objects will no longer be allowed to be loaded via this mode unless they are explicitly allowlisted by the user via `torch.serialization.add_safe_globals`. We recommend you start setting `weights_only=True` for any use case where you don't have full control of the loaded file. Please open an issue on GitHub for any issues related to this experimental feature.\n",
      "`torch.cuda.amp.autocast(args...)` is deprecated. Please use `torch.amp.autocast('cuda', args...)` instead.\n"
     ]
    }
   ],
   "source": [
    "outputs = inference(\"data/rat20_20240628_T2.nii\", \"data/rat20_20240628_ADC.nii\", \"data/rat20_20240628_DCE.nii\", \"data/\")"
   ]
  },
  {
   "cell_type": "code",
   "execution_count": 23,
   "metadata": {},
   "outputs": [],
   "source": [
    "volume = nib.load(\"data/rat20_20240628_T2.nii\").get_fdata()\n",
    "shape = volume.shape\n",
    "\n",
    "def plot_slice(slice_idx):\n",
    "    \"\"\"Plot a 2D slice from a 3D NIFTI image.\"\"\"\n",
    "    plt.figure(figsize=(6,6))\n",
    "\n",
    "\n",
    "    \n",
    "\n",
    "    plt.imshow(volume[:,:,slice_idx], cmap=\"gray\")\n",
    "\n",
    "    colors = [\"red\", \"yellow\", \"green\", \"blue\"]\n",
    "\n",
    "\n",
    "    for i, color in enumerate(colors):\n",
    "        out = outputs[0][i, :, :, slice_idx].detach().cpu().numpy()\n",
    "\n",
    "        contours = measure.find_contours(out, level=0.5)\n",
    "\n",
    "        for contour in contours:\n",
    "\n",
    "            plt.plot(contour[:, 1], contour[:, 0], color=color, linewidth=1.5)\n",
    "\n",
    "    plt.axis('off')\n",
    "    plt.show()\n"
   ]
  },
  {
   "cell_type": "code",
   "execution_count": 24,
   "metadata": {},
   "outputs": [
    {
     "data": {
      "application/vnd.jupyter.widget-view+json": {
       "model_id": "f9e927c29e74413f9e5bff1b91466d96",
       "version_major": 2,
       "version_minor": 0
      },
      "text/plain": [
       "interactive(children=(IntSlider(value=9, description='Slice:', max=18, style=SliderStyle(description_width='in…"
      ]
     },
     "metadata": {},
     "output_type": "display_data"
    },
    {
     "data": {
      "text/plain": [
       "<function __main__.plot_slice(slice_idx)>"
      ]
     },
     "execution_count": 24,
     "metadata": {},
     "output_type": "execute_result"
    }
   ],
   "source": [
    "slice_slider = widgets.IntSlider(\n",
    "    min=0, max=shape[2]-1, step=1, value=shape[2]//2,\n",
    "    description='Slice:',\n",
    "    style={'description_width': 'initial'}\n",
    ")\n",
    "\n",
    "\n",
    "\n",
    "interact(plot_slice, slice_idx=slice_slider)"
   ]
  },
  {
   "cell_type": "code",
   "execution_count": null,
   "metadata": {},
   "outputs": [],
   "source": []
  }
 ],
 "metadata": {
  "kernelspec": {
   "display_name": "general_env",
   "language": "python",
   "name": "general_env"
  },
  "language_info": {
   "codemirror_mode": {
    "name": "ipython",
    "version": 3
   },
   "file_extension": ".py",
   "mimetype": "text/x-python",
   "name": "python",
   "nbconvert_exporter": "python",
   "pygments_lexer": "ipython3",
   "version": "3.10.12"
  }
 },
 "nbformat": 4,
 "nbformat_minor": 2
}
